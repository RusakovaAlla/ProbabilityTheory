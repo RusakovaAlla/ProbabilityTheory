{
 "cells": [
  {
   "cell_type": "code",
   "execution_count": 2,
   "metadata": {},
   "outputs": [],
   "source": [
    "import numpy as np\n",
    "import scipy.stats as stats"
   ]
  },
  {
   "cell_type": "markdown",
   "metadata": {},
   "source": [
    "# Выберите тест и проверьте, есть ли различия между выборками"
   ]
  },
  {
   "cell_type": "markdown",
   "metadata": {},
   "source": [
    "## Задача1"
   ]
  },
  {
   "cell_type": "raw",
   "metadata": {},
   "source": [
    "Даны две независимые выборки. Не соблюдается условие нормальности\n",
    "x1 380,420, 290\n",
    "y1 140,360,200,900\n",
    "Сделайте вывод по результатам, полученным с помощью функции"
   ]
  },
  {
   "cell_type": "markdown",
   "metadata": {},
   "source": [
    "#### Формируем гипотезы"
   ]
  },
  {
   "cell_type": "raw",
   "metadata": {},
   "source": [
    "H0: статистически значичимых различий между выборками нет, при a=0.05\n",
    "H1: статистически значичимые различия между выборками есть, при a=0.05"
   ]
  },
  {
   "cell_type": "code",
   "execution_count": 3,
   "metadata": {},
   "outputs": [],
   "source": [
    "#по условию\n",
    "x1 = np.array([380, 420, 290])\n",
    "y1 = np.array([140, 360, 200, 900])"
   ]
  },
  {
   "cell_type": "code",
   "execution_count": 4,
   "metadata": {},
   "outputs": [
    {
     "data": {
      "text/plain": [
       "MannwhitneyuResult(statistic=4.0, pvalue=0.29794154528258887)"
      ]
     },
     "execution_count": 4,
     "metadata": {},
     "output_type": "execute_result"
    }
   ],
   "source": [
    "stats.mannwhitneyu(x1,y1)"
   ]
  },
  {
   "cell_type": "raw",
   "metadata": {},
   "source": [
    "Т.к. полученное значение pvalue > a (0.298>0.05), то принимает гипотезу H0, статистически значимых различий между выборками нет"
   ]
  },
  {
   "cell_type": "markdown",
   "metadata": {},
   "source": [
    "## Задача2"
   ]
  },
  {
   "cell_type": "raw",
   "metadata": {},
   "source": [
    "Исследовалось влияние препарата на уровень давления пациентов. Сначала\n",
    "измерялось давление до приема препарата, потом через 10 минут и через 30 минут. Есть\n",
    "ли статистически значимые различия?\n",
    "1е измерение до приема препарата: 150, 160, 165, 145, 155\n",
    "2е измерение через 10 минут: 140, 155, 150, 130, 135\n",
    "3е измерение через 30 минут: 130, 130, 120, 130, 125"
   ]
  },
  {
   "cell_type": "markdown",
   "metadata": {},
   "source": [
    "#### Формируем гипотезы"
   ]
  },
  {
   "cell_type": "code",
   "execution_count": null,
   "metadata": {},
   "outputs": [],
   "source": [
    "H0: принятие препарата не влияет на уровень давления пациентов, при a=0.05\n",
    "H1: принятие препарата влияет на уровень давления пациентов, при a=0.05"
   ]
  },
  {
   "cell_type": "code",
   "execution_count": 15,
   "metadata": {},
   "outputs": [],
   "source": [
    "#т.к. имеем 3 группы для сравнения, измерения повторные, воспользуемся расчетом критерия Фридмана\n",
    "#по условию\n",
    "test0 = np.array([150, 160, 165, 145, 155])\n",
    "test1 = np.array([140, 155, 150, 130, 135])\n",
    "test2 = np.array([130, 130, 120, 130, 125])\n",
    "tests = [test0, test1, test2]"
   ]
  },
  {
   "cell_type": "code",
   "execution_count": 19,
   "metadata": {},
   "outputs": [
    {
     "data": {
      "text/plain": [
       "FriedmanchisquareResult(statistic=9.578947368421062, pvalue=0.00831683351100441)"
      ]
     },
     "execution_count": 19,
     "metadata": {},
     "output_type": "execute_result"
    }
   ],
   "source": [
    "stats.friedmanchisquare(*tests)"
   ]
  },
  {
   "cell_type": "raw",
   "metadata": {},
   "source": [
    "Сравнивая значения pvalue=0.0083 и выбранную статистическую значимость в 0.05, отвергаем гипотезу H0. ПРинятие препарата влияет на уровень давления пациентов"
   ]
  },
  {
   "cell_type": "markdown",
   "metadata": {},
   "source": [
    "## Задача3"
   ]
  },
  {
   "cell_type": "raw",
   "metadata": {},
   "source": [
    "Сравните 1 и 2 е измерения, предполагая, что 3го измерения через 30 минут не было."
   ]
  },
  {
   "cell_type": "code",
   "execution_count": 23,
   "metadata": {},
   "outputs": [],
   "source": [
    "#т.к. имеем только 2 группы для сравнения, измерения повторные, воспользуемся расчетом Уилкоксона\n",
    "#по условию\n",
    "test0 = np.array([150, 160, 165, 145, 155])\n",
    "test1 = np.array([140, 155, 150, 130, 135])\n",
    "tests01 = [test0, test1]"
   ]
  },
  {
   "cell_type": "code",
   "execution_count": 25,
   "metadata": {},
   "outputs": [
    {
     "data": {
      "text/plain": [
       "WilcoxonResult(statistic=0.0, pvalue=0.0625)"
      ]
     },
     "execution_count": 25,
     "metadata": {},
     "output_type": "execute_result"
    }
   ],
   "source": [
    "stats.wilcoxon(*tests01)"
   ]
  },
  {
   "cell_type": "raw",
   "metadata": {},
   "source": [
    "Сравнивая значения pvalue=0.0625 и выбранную статистическую значимость в 0.05, принимаем гипотезу H0. Принятие препарата не повлияло на увень давления пациентов."
   ]
  },
  {
   "cell_type": "markdown",
   "metadata": {},
   "source": [
    "## Задача4"
   ]
  },
  {
   "cell_type": "code",
   "execution_count": null,
   "metadata": {},
   "outputs": [],
   "source": [
    "Даны 3 группы учеников плавания.\n",
    "В 1 группе время на дистанцию 50 м составляют:\n",
    "56, 60, 62, 55, 71, 67, 59, 58, 64, 67\n",
    "Вторая группа : 57, 58, 69, 48, 72, 70, 68, 71, 50, 53\n",
    "Третья группа: 57, 67, 49, 48, 47, 55, 66, 51, 54"
   ]
  },
  {
   "cell_type": "markdown",
   "metadata": {},
   "source": [
    "#### Формируем гипотезы"
   ]
  },
  {
   "cell_type": "raw",
   "metadata": {},
   "source": [
    "H0: различий в подготовке нет, при a=0.05\n",
    "H1: различия в подготовке есть, при a=0.05"
   ]
  },
  {
   "cell_type": "code",
   "execution_count": null,
   "metadata": {},
   "outputs": [],
   "source": [
    "#т.к. имеем 3 группы для сравнения, повторных измерений нет, воспользуемся расчетом критерия Краскала-Уоллиса\n",
    "#по условию\n",
    "group1 = np.array([56, 60, 62, 55, 71, 67, 59, 58, 64, 67])\n",
    "group2 = np.array([57, 58, 69, 48, 72, 70, 68, 71, 50, 53])\n",
    "group3 = np.array([57, 67, 49, 48, 47, 55, 66, 51, 54])\n",
    "groups = [group1, group2, group3]"
   ]
  },
  {
   "cell_type": "code",
   "execution_count": 17,
   "metadata": {},
   "outputs": [
    {
     "data": {
      "text/plain": [
       "KruskalResult(statistic=10.213868613138692, pvalue=0.006054616097364561)"
      ]
     },
     "execution_count": 17,
     "metadata": {},
     "output_type": "execute_result"
    }
   ],
   "source": [
    "stats.kruskal(*tests)"
   ]
  },
  {
   "cell_type": "raw",
   "metadata": {},
   "source": [
    "При заданной уровне статистической значимости a=0.05 обнаружены различия в подготовке плавцов (pvalue<a => 0.0061<0.05). Гипотезу H0 отвергаем"
   ]
  },
  {
   "cell_type": "markdown",
   "metadata": {},
   "source": [
    "## Задача5 (решать вручную)"
   ]
  },
  {
   "cell_type": "raw",
   "metadata": {},
   "source": [
    "Заявляется, что партия изготавливается со средним арифметическим 2,5 см. Проверить\n",
    "данную гипотезу, если известно, что размеры изделий подчинены нормальному закону\n",
    "распределения. Объем выборки 10, уровень статистической значимости 5%\n",
    "2.51, 2.35, 2.74, 2.56, 2.40, 2.36, 2.65, 2.7, 2.67, 2.34"
   ]
  },
  {
   "cell_type": "code",
   "execution_count": 26,
   "metadata": {},
   "outputs": [],
   "source": [
    "#по условию\n",
    "M = 2.5\n",
    "a = 0.05\n",
    "par = np.array([2.51, 2.35, 2.74, 2.56, 2.40, 2.36, 2.65, 2.7, 2.67, 2.34])"
   ]
  },
  {
   "cell_type": "markdown",
   "metadata": {},
   "source": [
    "#### Формируем гипотезы"
   ]
  },
  {
   "cell_type": "code",
   "execution_count": null,
   "metadata": {},
   "outputs": [],
   "source": [
    "H0: партия изготавливается со средним арифметическим 2,5 см, при a=0.05\n",
    "H1: партия изготавливается со средним арифметическим не равным 2,5 см, при a=0.05"
   ]
  },
  {
   "cell_type": "code",
   "execution_count": 28,
   "metadata": {},
   "outputs": [
    {
     "name": "stdout",
     "output_type": "stream",
     "text": [
      "0.5630613661802959\n"
     ]
    }
   ],
   "source": [
    "#т.к. дано нормальное распределение и дисперсия выборки нам не изместна, применяем критерий Стьюдента\n",
    "xm = par.mean()\n",
    "sigma = par.std(ddof=1)\n",
    "t = (xm-M)/(sigma/np.sqrt(10))\n",
    "print(t)"
   ]
  },
  {
   "cell_type": "code",
   "execution_count": 30,
   "metadata": {},
   "outputs": [],
   "source": [
    "#табличное значение критерия Стьюдента\n",
    "a = 0.05 ##т.к. не указано, что тест двусторонний\n",
    "tt = 2.262 #(для значения выборки 10-1 = 9)"
   ]
  },
  {
   "cell_type": "code",
   "execution_count": 31,
   "metadata": {},
   "outputs": [
    {
     "data": {
      "text/plain": [
       "False"
      ]
     },
     "execution_count": 31,
     "metadata": {},
     "output_type": "execute_result"
    }
   ],
   "source": [
    "np.abs(t)>tt"
   ]
  },
  {
   "cell_type": "raw",
   "metadata": {},
   "source": [
    "Вывод: расчетное значение критерия Стьюдента меньше табличного, следовательно принимаем гипотезу H0 - среднее арифметическое в партии действительно составляет 2.5."
   ]
  }
 ],
 "metadata": {
  "kernelspec": {
   "display_name": "Python 3",
   "language": "python",
   "name": "python3"
  },
  "language_info": {
   "codemirror_mode": {
    "name": "ipython",
    "version": 3
   },
   "file_extension": ".py",
   "mimetype": "text/x-python",
   "name": "python",
   "nbconvert_exporter": "python",
   "pygments_lexer": "ipython3",
   "version": "3.8.5"
  }
 },
 "nbformat": 4,
 "nbformat_minor": 4
}
