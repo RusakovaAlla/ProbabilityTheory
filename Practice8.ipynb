{
 "cells": [
  {
   "cell_type": "code",
   "execution_count": 54,
   "metadata": {},
   "outputs": [],
   "source": [
    "import numpy as np\n",
    "import pandas as pd\n",
    "import scipy.stats as stats"
   ]
  },
  {
   "cell_type": "markdown",
   "metadata": {},
   "source": [
    "## Задача 1"
   ]
  },
  {
   "cell_type": "raw",
   "metadata": {},
   "source": [
    "Даны значения величины заработной платы заемщиков банка (zp) и значения их поведенческого кредитного скоринга (ks):\n",
    "zp = [35, 45, 190, 200, 40, 70, 54, 150, 120, 110],\n",
    "ks = [401, 574, 874, 919, 459, 739, 653, 902, 746, 832].\n",
    "Найдите ковариацию этих двух величин с помощью элементарных действий, а затем с помощью функции cov из numpy\n",
    "Полученные значения должны быть равны.\n",
    "Найдите коэффициент корреляции Пирсона с помощью ковариации и среднеквадратичных отклонений двух признаков,\n",
    "а затем с использованием функций из библиотек numpy и pandas."
   ]
  },
  {
   "cell_type": "code",
   "execution_count": 5,
   "metadata": {},
   "outputs": [],
   "source": [
    "#по условию\n",
    "zp = np.array([35, 45, 190, 200, 40, 70, 54, 150, 120, 110])\n",
    "ks = np.array([401, 574, 874, 919, 459, 739, 653, 902, 746, 832])"
   ]
  },
  {
   "cell_type": "code",
   "execution_count": 8,
   "metadata": {},
   "outputs": [
    {
     "name": "stdout",
     "output_type": "stream",
     "text": [
      "Значение оэффициента ковариации, расчитанного вручную: 9157.84\n"
     ]
    }
   ],
   "source": [
    "#рассчитаем ковариацию\n",
    "cov_zp_ks = np.mean(zp*ks) - np.mean(zp)*np.mean(ks)\n",
    "print(f\"Значение оэффициента ковариации, расчитанного вручную: {round(cov_zp_ks,3)}\")"
   ]
  },
  {
   "cell_type": "code",
   "execution_count": 16,
   "metadata": {},
   "outputs": [
    {
     "name": "stdout",
     "output_type": "stream",
     "text": [
      "Значение оэффициента ковариации, расчитанного с использованием функции: 9157.84\n"
     ]
    }
   ],
   "source": [
    "#рассчитаем ковариацию с помощью функции np.cov\n",
    "covf_zp_ks = np.cov(zp, ks, ddof=0) #вид ковариации подобран вручную для совпадения значений, смещенная ковариация\n",
    "print(f\"Значение коэффициента ковариации, расчитанного с использованием функции: {round(covf_zp_ks[0][1], 3)}\")"
   ]
  },
  {
   "cell_type": "code",
   "execution_count": 49,
   "metadata": {},
   "outputs": [
    {
     "name": "stdout",
     "output_type": "stream",
     "text": [
      "Коэффициент ковариации Пирсона, ручной расчет 0.8874900920739158 \n",
      "Коэффициент ковариации Пирсона, функция numpy 0.8874900920739162 \n",
      "Коэффициент ковариации Пирсона, функция pandas 0.8874900920739162\n"
     ]
    }
   ],
   "source": [
    "#коэффициент ковариации Пирсона, ручной расчет\n",
    "r_zp_zp = cov_zp_ks/(np.std(zp, ddof=0)*np.std(ks, ddof=0))\n",
    "#коэффициент ковариации Пирсона, расчет с испоьзованием функций\n",
    "r_zp_zp_numpy = np.corrcoef(zp, ks)\n",
    "df = pd.DataFrame(zip(zp, ks), columns = ['zp', 'ks'])\n",
    "r_zp_zp_pandas = df.corr(method = 'pearson')\n",
    "print(f\"Коэффициент ковариации Пирсона, ручной расчет {r_zp_zp} \\n\" \n",
    "     f\"Коэффициент ковариации Пирсона, функция numpy {r_zp_zp_numpy[0][1]} \\n\"\n",
    "f\"Коэффициент ковариации Пирсона, функция pandas {r_zp_zp_pandas.iloc[0,1]}\")"
   ]
  },
  {
   "cell_type": "markdown",
   "metadata": {},
   "source": [
    "## Задача 2"
   ]
  },
  {
   "cell_type": "code",
   "execution_count": null,
   "metadata": {},
   "outputs": [],
   "source": [
    "Измерены значения IQ выборки студентов, обучающихся в местных технических вузах:\n",
    "131, 125, 115, 122, 131, 115, 107, 99, 125, 111.\n",
    "Известно, что в генеральной совокупности IQ распределен нормально. \n",
    "Найдите доверительный интервал для математического ожидания с надежностью 0.95."
   ]
  },
  {
   "cell_type": "code",
   "execution_count": 52,
   "metadata": {},
   "outputs": [],
   "source": [
    "#по условию\n",
    "IQ_array = np.array([131, 125, 115, 122, 131, 115, 107, 99, 125, 111])\n",
    "M = IQ_array.mean()\n",
    "n = 10\n",
    "a = 0.05"
   ]
  },
  {
   "cell_type": "code",
   "execution_count": 55,
   "metadata": {},
   "outputs": [
    {
     "name": "stdout",
     "output_type": "stream",
     "text": [
      "2.26\n"
     ]
    }
   ],
   "source": [
    "#т.к. среднее квадратическое отклонение не известно, то расчет доверительного интервала будем производить через t-критерий\n",
    "D_unmoved = np.var(IQ_array, ddof=1)\n",
    "t = stats.t.ppf(0.975,n-1)\n",
    "print(round(t,2))"
   ]
  },
  {
   "cell_type": "code",
   "execution_count": 57,
   "metadata": {},
   "outputs": [
    {
     "name": "stdout",
     "output_type": "stream",
     "text": [
      "Доверительный интервал оценки мат.ожидания IQ студентов[110.56, 125.64] с надежностью 0.95\n"
     ]
    }
   ],
   "source": [
    "Xm_left = M - t*np.sqrt(D_unmoved/n)\n",
    "Xm_right = M + t*np.sqrt(D_unmoved/n)\n",
    "print(f'Доверительный интервал оценки мат.ожидания IQ студентов' \n",
    "      f'{[round(Xm_left,2), round(Xm_right,2)]} с надежностью 0.95')"
   ]
  },
  {
   "cell_type": "markdown",
   "metadata": {},
   "source": [
    "## Задача 3"
   ]
  },
  {
   "cell_type": "raw",
   "metadata": {},
   "source": [
    "Известно, что рост футболистов в сборной распределен нормально с дисперсией генеральной совокупности, равной 25 кв.см. Объем выборки равен 27,среднее выборочное составляет 174.2. Найдите доверительный интервал для математического\n",
    "ожидания с надежностью 0.95."
   ]
  },
  {
   "cell_type": "code",
   "execution_count": 59,
   "metadata": {},
   "outputs": [],
   "source": [
    "#по условию\n",
    "D = 25\n",
    "M = 174.2\n",
    "n = 27\n",
    "a = 0.05"
   ]
  },
  {
   "cell_type": "code",
   "execution_count": 63,
   "metadata": {},
   "outputs": [
    {
     "name": "stdout",
     "output_type": "stream",
     "text": [
      "Доверительный интервал оценки мат.ожидания роста футболистов [172.31, 176.09] с надежностью 0,95\n"
     ]
    }
   ],
   "source": [
    "#т.к. нам известно среднее квадратическое отклонение, то расчет доверительного интервала будем производить через Z-критерий\n",
    "#Xm = M (+-) z_a/2*sigma/sqrt(n)\n",
    "#найдем z-критейрий по таблице для a/2\n",
    "z = 1.96\n",
    "#рассчитаем границы интеревала\n",
    "Xm_left = M - z*np.sqrt(D/n)\n",
    "Xm_right = M + z*np.sqrt(D/n)\n",
    "print(f'Доверительный интервал оценки мат.ожидания роста футболистов'\n",
    "      f' {[round(Xm_left,2), round(Xm_right,2)]} с надежностью 0,95')"
   ]
  }
 ],
 "metadata": {
  "kernelspec": {
   "display_name": "Python 3",
   "language": "python",
   "name": "python3"
  },
  "language_info": {
   "codemirror_mode": {
    "name": "ipython",
    "version": 3
   },
   "file_extension": ".py",
   "mimetype": "text/x-python",
   "name": "python",
   "nbconvert_exporter": "python",
   "pygments_lexer": "ipython3",
   "version": "3.8.5"
  }
 },
 "nbformat": 4,
 "nbformat_minor": 4
}
