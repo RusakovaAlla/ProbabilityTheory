{
 "cells": [
  {
   "cell_type": "code",
   "execution_count": 23,
   "metadata": {},
   "outputs": [],
   "source": [
    "import numpy as np\n",
    "import scipy.stats as stats"
   ]
  },
  {
   "cell_type": "markdown",
   "metadata": {},
   "source": [
    "## Задача 1"
   ]
  },
  {
   "cell_type": "raw",
   "metadata": {},
   "source": [
    "Когда используется критерий Стьюдента, а когда Z–критерий?"
   ]
  },
  {
   "cell_type": "raw",
   "metadata": {},
   "source": [
    "Критерий Стьюдента используется в случаях, когда не известно среднее квадратическое отклонение генеральной совокупности."
   ]
  },
  {
   "cell_type": "markdown",
   "metadata": {},
   "source": [
    "## Задача 2"
   ]
  },
  {
   "cell_type": "raw",
   "metadata": {},
   "source": [
    "Проведите тест гипотезы. Утверждается, что шарики для подшипников, изготовленные автоматическим станком, имеют средний диаметр 17 мм.\n",
    "Используя односторонний критерий с α=0.05, проверить эту гипотезу, если в выборке из n=100 шариков средний диаметр\n",
    "оказался равным 17.5 мм, а дисперсия известна и равна 4 кв. мм."
   ]
  },
  {
   "cell_type": "markdown",
   "metadata": {},
   "source": [
    "### Формируем гипотезы"
   ]
  },
  {
   "cell_type": "raw",
   "metadata": {},
   "source": [
    "Гипотеза H0: шарики для пошипников действительно имеют средний диаметр 17 мм\n",
    "Гипотеза H1: шарики для пошипников имеют средний диаметр больше 17 мм"
   ]
  },
  {
   "cell_type": "code",
   "execution_count": 22,
   "metadata": {},
   "outputs": [
    {
     "name": "stdout",
     "output_type": "stream",
     "text": [
      "2.5\n"
     ]
    }
   ],
   "source": [
    "#т.к. дисперсия известна, принимаем для расчета Z-критерий\n",
    "zn = (17.5-17)/(np.sqrt(4)/np.sqrt(100))\n",
    "print(zn)"
   ]
  },
  {
   "cell_type": "code",
   "execution_count": 4,
   "metadata": {},
   "outputs": [
    {
     "name": "stdout",
     "output_type": "stream",
     "text": [
      "1.645\n"
     ]
    }
   ],
   "source": [
    "#найдем z по таблице z-значений для критерия 1-a, чтобы сравнить z и zn\n",
    "z = (1.64+1.65)/2\n",
    "print(z)"
   ]
  },
  {
   "cell_type": "raw",
   "metadata": {},
   "source": [
    "Таким образом, 1.645>2.5, расчетное значение z больше табличного, то верна гипотеза H1 - шарики для пошипников  имеют средний диаметр более 17 мм. Утверждение в задании неверно."
   ]
  },
  {
   "cell_type": "markdown",
   "metadata": {},
   "source": [
    "## Задача 3"
   ]
  },
  {
   "cell_type": "raw",
   "metadata": {},
   "source": [
    "Проведите тест гипотезы. Продавец утверждает, что средний вес пачки печенья\n",
    "составляет 200 г.\n",
    "Из партии извлечена выборка из 10 пачек. Вес каждой пачки составляет:\n",
    "202, 203, 199, 197, 195, 201, 200, 204, 194, 190.\n",
    "Известно, что их веса распределены нормально.\n",
    "Верно ли утверждение продавца, если учитывать, что доверительная вероятность равна\n",
    "99%? (Провести двусторонний тест.)"
   ]
  },
  {
   "cell_type": "markdown",
   "metadata": {},
   "source": [
    "### Формируем гипотезы"
   ]
  },
  {
   "cell_type": "raw",
   "metadata": {},
   "source": [
    "Гипотеза H0: cредний вес пачки печенья составляет 200 г\n",
    "Гипотеза H1: cредний вес пачки печенья не равен 200 г"
   ]
  },
  {
   "cell_type": "code",
   "execution_count": 15,
   "metadata": {},
   "outputs": [
    {
     "name": "stdout",
     "output_type": "stream",
     "text": [
      "-1.0651074037450896\n"
     ]
    }
   ],
   "source": [
    "#т.к. дано нормальное распределение и дисперсия выборки нам не изместна, применяем критерий Стьюдента\n",
    "cookies = np.array([202, 203, 199, 197, 195, 201, 200, 204, 194, 190])\n",
    "xm = cookies.mean()\n",
    "sigma = cookies.std(ddof=1)\n",
    "t = (xm-200)/(sigma/np.sqrt(10))\n",
    "print(t)"
   ]
  },
  {
   "cell_type": "code",
   "execution_count": 19,
   "metadata": {},
   "outputs": [],
   "source": [
    "#табличное значение критерия Стьюдента\n",
    "a = (100-99)/100/2 ##т.к. тест двусторонний\n",
    "tt = 3.25 #(для значения выборки 10-1 = 9)"
   ]
  },
  {
   "cell_type": "code",
   "execution_count": 20,
   "metadata": {},
   "outputs": [
    {
     "data": {
      "text/plain": [
       "False"
      ]
     },
     "execution_count": 20,
     "metadata": {},
     "output_type": "execute_result"
    }
   ],
   "source": [
    "#т.к. анализ двусторонний, возьмем абсолютное значение t и сравним его с табличным\n",
    "np.abs(t)>tt"
   ]
  },
  {
   "cell_type": "raw",
   "metadata": {},
   "source": [
    "Вывод: расчетное значение критерия Стьюдента меньше табличного, следовательно принимаем нулевую гипотезу - средний вес пачки печенья действительно составляет 200 г."
   ]
  },
  {
   "cell_type": "markdown",
   "metadata": {},
   "source": [
    "## Задача 4"
   ]
  },
  {
   "cell_type": "code",
   "execution_count": null,
   "metadata": {},
   "outputs": [],
   "source": [
    "Есть ли статистически значимые различия в росте дочерей?\n",
    "Рост матерей 172, 177, 158, 170, 178,175, 164, 160, 169, 165\n",
    "Рост взрослых дочерей: 173, 175, 162, 174, 175, 168, 155, 170, 160, 163"
   ]
  },
  {
   "cell_type": "markdown",
   "metadata": {},
   "source": [
    "### Формируем гипотезы"
   ]
  },
  {
   "cell_type": "code",
   "execution_count": null,
   "metadata": {},
   "outputs": [],
   "source": [
    "Гипотеза H0: статистически значимые различия в росте дочерей отсутствуют\n",
    "Гипотеза H1: статистически значимые различия в росте дочерей есть"
   ]
  },
  {
   "cell_type": "code",
   "execution_count": 25,
   "metadata": {},
   "outputs": [],
   "source": [
    "mothers = np.array([172, 177, 158, 170, 178, 175, 164, 160, 169, 165])\n",
    "daughters = np.array([173, 175, 162, 174, 175, 168, 155, 170, 160, 163])"
   ]
  },
  {
   "cell_type": "code",
   "execution_count": 28,
   "metadata": {},
   "outputs": [
    {
     "name": "stdout",
     "output_type": "stream",
     "text": [
      "Ttest_relResult(statistic=0.664847853143198, pvalue=0.5228168632983574)\n"
     ]
    }
   ],
   "source": [
    "print(stats.ttest_rel(mothers, daughters))"
   ]
  },
  {
   "cell_type": "markdown",
   "metadata": {},
   "source": [
    "Вывод: т.к. pvalue = 0.523 больше минимального значения a равного 0.05, то гипотезу H1 отвергаем. Следовательно, нет статистически значимых различий в росте дочерей"
   ]
  }
 ],
 "metadata": {
  "kernelspec": {
   "display_name": "Python 3",
   "language": "python",
   "name": "python3"
  },
  "language_info": {
   "codemirror_mode": {
    "name": "ipython",
    "version": 3
   },
   "file_extension": ".py",
   "mimetype": "text/x-python",
   "name": "python",
   "nbconvert_exporter": "python",
   "pygments_lexer": "ipython3",
   "version": "3.8.5"
  }
 },
 "nbformat": 4,
 "nbformat_minor": 4
}
