{
 "cells": [
  {
   "cell_type": "code",
   "execution_count": 2,
   "metadata": {},
   "outputs": [],
   "source": [
    "import numpy as np\n",
    "import scipy.stats as stats"
   ]
  },
  {
   "cell_type": "markdown",
   "metadata": {},
   "source": [
    "## Задача1"
   ]
  },
  {
   "cell_type": "raw",
   "metadata": {},
   "source": [
    "Известно, что генеральная совокупность распределена нормально\n",
    "со средним квадратическим отклонением, равным 16.\n",
    "Найти доверительный интервал для оценки математического ожидания a с надежностью\n",
    "0.95,\n",
    "если выборочная средняя M = 80, а объем выборки n = 256."
   ]
  },
  {
   "cell_type": "code",
   "execution_count": 7,
   "metadata": {},
   "outputs": [],
   "source": [
    "#по условию\n",
    "sigma = 16\n",
    "M = 80\n",
    "n = 256\n",
    "a = 0.05"
   ]
  },
  {
   "cell_type": "code",
   "execution_count": 12,
   "metadata": {},
   "outputs": [],
   "source": [
    "#т.к. нам известно среднее квадратическое отклонение, то расчет доверительного интервала будем производить через Z-критерий\n",
    "#Xm = M (+-) z_a/2*sigma/sqrt(n)\n",
    "#найдем z-критейрий по таблице для a/2\n",
    "z = 1.96"
   ]
  },
  {
   "cell_type": "code",
   "execution_count": 14,
   "metadata": {},
   "outputs": [
    {
     "name": "stdout",
     "output_type": "stream",
     "text": [
      "Доверительный интервал оценки мат.ожидания [78.04, 81.96] с надежностью 0,95\n"
     ]
    }
   ],
   "source": [
    "#рассчитаем границы интеревала\n",
    "Xm_left = 80 - z*sigma/np.sqrt(n)\n",
    "Xm_right = 80 + z*sigma/np.sqrt(n)\n",
    "print(f'Доверительный интервал оценки мат.ожидания {[Xm_left, Xm_right]} с надежностью 0,95')"
   ]
  },
  {
   "cell_type": "markdown",
   "metadata": {},
   "source": [
    "## Задача2"
   ]
  },
  {
   "cell_type": "raw",
   "metadata": {},
   "source": [
    "В результате 10 независимых измерений некоторой величины X, выполненных с\n",
    "одинаковой точностью,\n",
    "получены опытные данные:\n",
    "6.9, 6.1, 6.2, 6.8, 7.5, 6.3, 6.4, 6.9, 6.7, 6.1\n",
    "Предполагая, что результаты измерений подчинены нормальному закону распределения\n",
    "вероятностей,\n",
    "оценить истинное значение величины X при помощи доверительного интервала,\n",
    "покрывающего это\n",
    "значение с доверительной вероятностью 0,95."
   ]
  },
  {
   "cell_type": "code",
   "execution_count": 21,
   "metadata": {},
   "outputs": [],
   "source": [
    "#по условию\n",
    "x_array = np.array([6.9, 6.1, 6.2, 6.8, 7.5, 6.3, 6.4, 6.9, 6.7, 6.1])\n",
    "M = x_array.mean()\n",
    "n = 10\n",
    "a = 0.05\n",
    "D_unmoved = np.var(x_array, ddof=1)"
   ]
  },
  {
   "cell_type": "code",
   "execution_count": 25,
   "metadata": {},
   "outputs": [
    {
     "name": "stdout",
     "output_type": "stream",
     "text": [
      "2.26\n"
     ]
    }
   ],
   "source": [
    "#т.к. среднее квадратическое отклонение не известно, то расчет доверительного интервала будем производить через t-критерий\n",
    "#Xm = M (+-) t_a/2*sigma/sqrt(n)\n",
    "#найдем t-критейрий по таблице для a/2 (p=0.975)\n",
    "t = stats.t.ppf(0.975,n-1)\n",
    "print(round(t,2))"
   ]
  },
  {
   "cell_type": "code",
   "execution_count": 24,
   "metadata": {},
   "outputs": [
    {
     "name": "stdout",
     "output_type": "stream",
     "text": [
      "Доверительный интервал оценки мат.ожидания [6.27, 6.91] с надежностью 0.95\n"
     ]
    }
   ],
   "source": [
    "#рассчитаем границы интеревала\n",
    "Xm_left = M - t*np.sqrt(D_unmoved/n)\n",
    "Xm_right = M + t*np.sqrt(D_unmoved/n)\n",
    "print(f'Доверительный интервал оценки мат.ожидания {[round(Xm_left,2), round(Xm_right,2)]} с надежностью 0.95')"
   ]
  },
  {
   "cell_type": "markdown",
   "metadata": {},
   "source": [
    "## Задача3"
   ]
  },
  {
   "cell_type": "raw",
   "metadata": {},
   "source": [
    "Рост дочерей 175, 167, 154, 174, 178, 148, 160, 167, 169, 170\n",
    "Рост матерей 178, 165, 165, 173, 168, 155, 160, 164, 178, 175\n",
    "Используя эти данные построить 95% доверительный интервал для разности среднего\n",
    "роста родителей и детей."
   ]
  },
  {
   "cell_type": "code",
   "execution_count": 26,
   "metadata": {},
   "outputs": [],
   "source": [
    "#по условию\n",
    "mothers = np.array([172, 177, 158, 170, 178, 175, 164, 160, 169, 165])\n",
    "daughters = np.array([173, 175, 162, 174, 175, 168, 155, 170, 160, 163])\n",
    "a = 0.05"
   ]
  },
  {
   "cell_type": "code",
   "execution_count": 31,
   "metadata": {},
   "outputs": [],
   "source": [
    "#доверительный интервал расчитаем как delta (+-) t_a/2*sqrt(D/n1+D/n2)\n",
    "#расчитаем необходимые переменные по обеим выборкам (среднюю, количество элементов, несмещенную дисперсию, \n",
    "#а так же разность средних)\n",
    "mthrs_mean, mthrs_len, mthrs_var  = np.mean(mothers), len(mothers), np.var(mothers, ddof=1)\n",
    "dghtrs_mean, dghtrs_len, dghtrs_var = np.mean(daughters), len(daughters), np.var(daughters, ddof=1)\n",
    "delta = mthrs_mean-dghtrs_mean"
   ]
  },
  {
   "cell_type": "code",
   "execution_count": 32,
   "metadata": {},
   "outputs": [],
   "source": [
    "#расчитаем объединенную оценку дисперсии, стандартную ошибку разности средней, степени свободы и t-критерий\n",
    "D = (mthrs_var+dghtrs_var)/2\n",
    "S = np.sqrt(D/mthrs_len+D/dghtrs_len)\n",
    "fd = mthrs_len-1 + dghtrs_len-1\n",
    "t = stats.t.ppf(0.975, fd)"
   ]
  },
  {
   "cell_type": "code",
   "execution_count": 35,
   "metadata": {},
   "outputs": [
    {
     "name": "stdout",
     "output_type": "stream",
     "text": [
      "Доверительный интервал разности среднего [-5.3, 7.9] с надежностью 0.95\n"
     ]
    }
   ],
   "source": [
    "#рассчитаем границы интеревала\n",
    "lower_point = delta - t*S\n",
    "upper_point = delta + t*S\n",
    "print(f'Доверительный интервал разности среднего {[round(lower_point,2), round(upper_point,2)]} с надежностью 0.95')"
   ]
  }
 ],
 "metadata": {
  "kernelspec": {
   "display_name": "Python 3",
   "language": "python",
   "name": "python3"
  },
  "language_info": {
   "codemirror_mode": {
    "name": "ipython",
    "version": 3
   },
   "file_extension": ".py",
   "mimetype": "text/x-python",
   "name": "python",
   "nbconvert_exporter": "python",
   "pygments_lexer": "ipython3",
   "version": "3.8.5"
  }
 },
 "nbformat": 4,
 "nbformat_minor": 4
}
