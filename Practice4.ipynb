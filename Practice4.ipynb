{
 "cells": [
  {
   "cell_type": "code",
   "execution_count": 1,
   "metadata": {},
   "outputs": [],
   "source": [
    "#подключаем библиотеки для проверки\n",
    "import numpy as np\n",
    "import pandas as pd\n",
    "from scipy import stats"
   ]
  },
  {
   "cell_type": "markdown",
   "metadata": {},
   "source": [
    "## Задача 1"
   ]
  },
  {
   "cell_type": "raw",
   "metadata": {},
   "source": [
    "Случайная непрерывная величина A имеет равномерное распределение на\n",
    "промежутке (200, 800].\n",
    "Найдите ее среднее значение и дисперсию."
   ]
  },
  {
   "cell_type": "code",
   "execution_count": 2,
   "metadata": {},
   "outputs": [
    {
     "name": "stdout",
     "output_type": "stream",
     "text": [
      "Математические ожидание (средняя арифметическая) равна 500.0 \n",
      "Дисперсия равна 30000.0\n"
     ]
    }
   ],
   "source": [
    "mo = (200+800)/2\n",
    "D = (800-200)**2/12\n",
    "print(f\"Математические ожидание (средняя арифметическая) равна {mo} \\n\"\n",
    "     f\"Дисперсия равна {D}\")"
   ]
  },
  {
   "cell_type": "markdown",
   "metadata": {},
   "source": [
    "## Задача 2"
   ]
  },
  {
   "cell_type": "raw",
   "metadata": {},
   "source": [
    "О случайной непрерывной равномерно распределенной величине B известно, что ее\n",
    "дисперсия равна 0.2.\n",
    "Можно ли найти правую границу величины B и ее среднее значение зная, что левая\n",
    "граница равна 0.5?\n",
    "Если да, найдите ее."
   ]
  },
  {
   "cell_type": "code",
   "execution_count": 4,
   "metadata": {},
   "outputs": [
    {
     "name": "stdout",
     "output_type": "stream",
     "text": [
      "Правая граница интервала равна 2.05 \n",
      "Среднее значение в интервале составляет 1.27\n"
     ]
    }
   ],
   "source": [
    "#из формулы дисперсии выведем расчет правой границы (b) интервала\n",
    "#D = (b-a)**2/12 => b = sqrt(12*D)-a\n",
    "D = 0.2\n",
    "a = 0.5\n",
    "b = np.sqrt(12*D)+a\n",
    "mo = (a+b)/2\n",
    "print(f\"Правая граница интервала равна {round(b,2)} \\n\"\n",
    "     f\"Среднее значение в интервале составляет {round(mo, 2)}\")"
   ]
  },
  {
   "cell_type": "markdown",
   "metadata": {},
   "source": [
    "## Задача 3"
   ]
  },
  {
   "cell_type": "raw",
   "metadata": {},
   "source": [
    "Задача 3. Непрерывная случайная величина X распределена нормально и задана плотностью\n",
    "распределения\n",
    "f(x) = (1 / (4 * sqrt(2pi))) * exp((-(x+2)**2) / 32)\n",
    "Найдите:\n",
    "а). M(X)\n",
    "б). D(X)\n",
    "в). std(X) (среднее квадратичное отклонение)"
   ]
  },
  {
   "cell_type": "code",
   "execution_count": 5,
   "metadata": {},
   "outputs": [
    {
     "name": "stdout",
     "output_type": "stream",
     "text": [
      "M(X) = -2 \n",
      "D(X) = 16 \n",
      "std(X) = 4 \n",
      "\n"
     ]
    }
   ],
   "source": [
    "mx = -2 #из числителя ступени экспоненты\n",
    "stdx = 4 #из знаменателя первого множетеля или выразим из знаменателя степени экспоненты: 2*stdx**2 = 32 => stdx**2 = 16\n",
    "D = stdx**2 #из формулы сигма = 4, дисперсия = сигма**2\n",
    "print(f\"M(X) = {mx} \\n\"\n",
    "     f\"D(X) = {D} \\n\"\n",
    "     f\"std(X) = {stdx} \\n\")"
   ]
  },
  {
   "cell_type": "markdown",
   "metadata": {},
   "source": [
    "## Задача 4"
   ]
  },
  {
   "cell_type": "raw",
   "metadata": {},
   "source": [
    "Рост взрослого населения города X имеет нормальное распределение, причем, средний рост равен 174 см, а среднее квадратическое отклонение равно 8 см. посчитайте, какова вероятность того, что случайным образом выбранный взрослый человек имеет рост:\n",
    "1. больше 182 см?\n",
    "2. больше 190 см?\n",
    "3. от 166 см до 190 см?\n",
    "4. от 166 см до 182 см?\n",
    "5. от 158 см до 190 см?\n",
    "6. не выше 150 см или не ниже 190 см?\n",
    "7. не выше 150 см или не ниже 198 см?\n",
    "8. ниже 166 см?\n",
    "\n",
    "Задачу можно решить двумя способами: без использования сторонних библиотек (numpy, scipy, pandas и пр.), а затем проверить себя с помощью встроенных функций"
   ]
  },
  {
   "cell_type": "code",
   "execution_count": 14,
   "metadata": {},
   "outputs": [
    {
     "name": "stdout",
     "output_type": "stream",
     "text": [
      "{150: -3.0, 158: -2.0, 166: -1.0, 182: 1.0, 190: 2.0, 198: 3.0}\n"
     ]
    }
   ],
   "source": [
    "def z_table_value(x, mo, sigma):\n",
    "    return (x-mo)/sigma\n",
    "\n",
    "\n",
    "def z_value_check(x):\n",
    "    return stats.norm.cdf(x)\n",
    "\n",
    "\n",
    "def z_value_stats(array, mo, sigma): #формируем таблицу Z-значений для каждого из параметров\n",
    "    array_z = {i : z_table_value(i, mo, sigma) for i in array}\n",
    "    return array_z\n",
    "\n",
    "\n",
    "dencity_params = [174, 8]\n",
    "heights = [150, 158, 166, 182, 190, 198]\n",
    "z_dict = z_value_stats(heights, *dencity_params)\n",
    "print(z_dict)"
   ]
  },
  {
   "cell_type": "code",
   "execution_count": 7,
   "metadata": {},
   "outputs": [
    {
     "name": "stdout",
     "output_type": "stream",
     "text": [
      "Найти в z-таблице значение вероятности для z=1.0\n",
      "Вероятность, что человек имеет рост больше 182 см составляет 15.87%\n",
      "Проверка: 15.87%\n"
     ]
    }
   ],
   "source": [
    "#Вопрос1 (больше 182)\n",
    "d = z_dict[182]\n",
    "print(f\"Найти в z-таблице значение вероятности для z={d}\")\n",
    "d1 = (1-0.8413)*100 #т.к. вопрос о росте большем 182, а по таблице нашли вероятность, что рост менее 182\n",
    "print(f\"Вероятность, что человек имеет рост больше 182 см составляет {round(d1,2)}%\")\n",
    "print(f\"Проверка: {round((1-z_value_check(d))*100,2)}%\")"
   ]
  },
  {
   "cell_type": "code",
   "execution_count": 8,
   "metadata": {},
   "outputs": [
    {
     "name": "stdout",
     "output_type": "stream",
     "text": [
      "Найти в z-таблице значение вероятности для z=2.0\n",
      "Вероятность, что человек имеет рост больше 190 см составляет 2.28%\n",
      "Проверка: 2.28%\n"
     ]
    }
   ],
   "source": [
    "#Вопрос2 (больше 190)\n",
    "d = z_dict[190]\n",
    "print(f\"Найти в z-таблице значение вероятности для z={d}\")\n",
    "d2 = (1-0.9772)*100 #т.к. вопрос о росте большем 190, а по таблице нашли вероятность, что рост менее 190\n",
    "print(f\"Вероятность, что человек имеет рост больше 190 см составляет {round(d2,2)}%\")\n",
    "print(f\"Проверка: {round((1-z_value_check(d))*100,2)}%\")"
   ]
  },
  {
   "cell_type": "code",
   "execution_count": 9,
   "metadata": {},
   "outputs": [
    {
     "name": "stdout",
     "output_type": "stream",
     "text": [
      "Найти в z-таблице значение вероятности для z=-1.0\n",
      "Найти в z-таблице значение вероятности для z=2.0\n",
      "Вероятность, что человек имеет рост от 166 до 190 см составляет 81.85%\n",
      "Проверка: 81.86%\n"
     ]
    }
   ],
   "source": [
    "#Вопрос3 (от 166 до 190)\n",
    "d1 = z_dict[166]\n",
    "d2 = z_dict[190]\n",
    "print(f\"Найти в z-таблице значение вероятности для z={d1}\")\n",
    "print(f\"Найти в z-таблице значение вероятности для z={d2}\")\n",
    "d31 = 0.1587*100 \n",
    "d32 = 0.9772*100\n",
    "print(f\"Вероятность, что человек имеет рост от 166 до 190 см составляет {round(d32-d31,2)}%\")\n",
    "print(f\"Проверка: {round((z_value_check(d2)-z_value_check(d1))*100,2)}%\")"
   ]
  },
  {
   "cell_type": "code",
   "execution_count": 10,
   "metadata": {},
   "outputs": [
    {
     "name": "stdout",
     "output_type": "stream",
     "text": [
      "Найти в z-таблице значение вероятности для z=-1.0\n",
      "Найти в z-таблице значение вероятности для z=1.0\n",
      "Вероятность, что человек имеет рост от 166 до 190 см составляет 68.26%\n",
      "Проверка: 68.27%\n"
     ]
    }
   ],
   "source": [
    "#Вопрос4 (от 166 до 182)\n",
    "d1 = z_dict[166]\n",
    "d2 = z_dict[182]\n",
    "print(f\"Найти в z-таблице значение вероятности для z={d1}\")\n",
    "print(f\"Найти в z-таблице значение вероятности для z={d2}\")\n",
    "d41 = 0.1587*100 \n",
    "d42 = 0.8413*100\n",
    "print(f\"Вероятность, что человек имеет рост от 166 до 190 см составляет {round(d42-d41,2)}%\")\n",
    "print(f\"Проверка: {round((z_value_check(d2)-z_value_check(d1))*100,2)}%\")"
   ]
  },
  {
   "cell_type": "code",
   "execution_count": 11,
   "metadata": {},
   "outputs": [
    {
     "name": "stdout",
     "output_type": "stream",
     "text": [
      "Найти в z-таблице значение вероятности для z=-2.0\n",
      "Найти в z-таблице значение вероятности для z=2.0\n",
      "Вероятность, что человек имеет рост от 166 до 190 см составляет 95.44%\n",
      "Проверка: 95.45%\n"
     ]
    }
   ],
   "source": [
    "#Вопрос5 (от 158 до 190)\n",
    "d1 = z_dict[158]\n",
    "d2 = z_dict[190]\n",
    "print(f\"Найти в z-таблице значение вероятности для z={d1}\")\n",
    "print(f\"Найти в z-таблице значение вероятности для z={d2}\")\n",
    "d51 = 0.0228*100 \n",
    "d52 = 0.9772*100\n",
    "print(f\"Вероятность, что человек имеет рост от 166 до 190 см составляет {round(d52-d51,2)}%\")\n",
    "print(f\"Проверка: {round((z_value_check(d2)-z_value_check(d1))*100,2)}%\")"
   ]
  },
  {
   "cell_type": "code",
   "execution_count": 12,
   "metadata": {},
   "outputs": [
    {
     "name": "stdout",
     "output_type": "stream",
     "text": [
      "Найти в z-таблице значение вероятности для z=-3.0\n",
      "Найти в z-таблице значение вероятности для z=2.0\n",
      "Вероятность, что человек имеет рост от 166 до 190 см составляет 2.41%\n",
      "Проверка: 2.41%\n"
     ]
    }
   ],
   "source": [
    "#Вопрос6 (не выше 150 см или не ниже 190 см?)\n",
    "d1 = z_dict[150]\n",
    "d2 = z_dict[190]\n",
    "print(f\"Найти в z-таблице значение вероятности для z={d1}\")\n",
    "print(f\"Найти в z-таблице значение вероятности для z={d2}\")\n",
    "d61 = 0.0013*100 \n",
    "d62 = (1-0.9772)*100\n",
    "print(f\"Вероятность, что человек имеет рост от 166 до 190 см составляет {round(d62+d61,2)}%\")\n",
    "print(f\"Проверка: {round((1-z_value_check(d2)+z_value_check(d1))*100,2)}%\")"
   ]
  },
  {
   "cell_type": "code",
   "execution_count": 15,
   "metadata": {},
   "outputs": [
    {
     "name": "stdout",
     "output_type": "stream",
     "text": [
      "Найти в z-таблице значение вероятности для z=-3.0\n",
      "Найти в z-таблице значение вероятности для z=3.0\n",
      "Вероятность, что человек имеет рост от 166 до 190 см составляет 0.26%\n",
      "Проверка: 0.27%\n"
     ]
    }
   ],
   "source": [
    "#Вопрос7 (не выше 150 см или не ниже 198 см?)\n",
    "d1 = z_dict[150]\n",
    "d2 = z_dict[198]\n",
    "print(f\"Найти в z-таблице значение вероятности для z={d1}\")\n",
    "print(f\"Найти в z-таблице значение вероятности для z={d2}\")\n",
    "d71 = 0.0013*100 \n",
    "d72 = (1-0.9987)*100\n",
    "print(f\"Вероятность, что человек имеет рост от 166 до 198 см составляет {round(d72+d71,2)}%\")\n",
    "print(f\"Проверка: {round((1-z_value_check(d2)+z_value_check(d1))*100,2)}%\")"
   ]
  },
  {
   "cell_type": "code",
   "execution_count": 16,
   "metadata": {},
   "outputs": [
    {
     "name": "stdout",
     "output_type": "stream",
     "text": [
      "Найти в z-таблице значение вероятности для z=-1.0\n",
      "Вероятность, что человек имеет рост менее 120 см составляет 15.87%\n",
      "Проверка: 15.87%\n"
     ]
    }
   ],
   "source": [
    "#Вопрос8\n",
    "d = z_dict[166]\n",
    "print(f\"Найти в z-таблице значение вероятности для z={d}\")\n",
    "d8 = 0.1587*100 #т.к. вопрос о росте менее 166\n",
    "print(f\"Вероятность, что человек имеет рост менее 120 см составляет {round(d8,2)}%\")\n",
    "print(f\"Проверка: {round(z_value_check(d)*100,2)}%\")"
   ]
  },
  {
   "cell_type": "markdown",
   "metadata": {},
   "source": [
    "## Задача 5"
   ]
  },
  {
   "cell_type": "raw",
   "metadata": {},
   "source": [
    "На сколько сигм (средних квадратичных отклонений) отклоняется рост человека,\n",
    "равный 190 см, от\n",
    "математического ожидания роста в популяции, в которой M(X) = 178 см и D(X) = 25 кв.см?"
   ]
  },
  {
   "cell_type": "code",
   "execution_count": 18,
   "metadata": {},
   "outputs": [
    {
     "name": "stdout",
     "output_type": "stream",
     "text": [
      "Рост человека в 190 см, отклоняется от мат.ожидания роста в популяции в 178 см на 2.4 сигм\n"
     ]
    }
   ],
   "source": [
    "#найдем значение\n",
    "z = (190-178)/5\n",
    "print(f\"Рост человека в 190 см, отклоняется от мат.ожидания роста в популяции в 178 см на {z} сигм\")"
   ]
  },
  {
   "cell_type": "markdown",
   "metadata": {},
   "source": [
    "## Дополнительно (на повторение)"
   ]
  },
  {
   "cell_type": "raw",
   "metadata": {},
   "source": [
    "Даны значения зарплат из выборки выпускников:\n",
    "\n",
    "100, 80, 75, 77, 89, 33, 45, 25, 65, 17, 30, 24, 57, 55, 70, 75, 65, 84, 90, 150.\n",
    "\n",
    "построить гитограмму распределения, подобрав лучший параметр bins,\n",
    "найти первый и третий квартили, интерквартильное расстояние. Найти выборсы в выборке, используя для этого \"усы\" из boxplot."
   ]
  },
  {
   "cell_type": "code",
   "execution_count": 27,
   "metadata": {},
   "outputs": [
    {
     "name": "stdout",
     "output_type": "stream",
     "text": [
      "           salary\n",
      "count   20.000000\n",
      "mean    65.300000\n",
      "std     31.624607\n",
      "min     17.000000\n",
      "25%     42.000000\n",
      "50%     67.500000\n",
      "75%     81.000000\n",
      "max    150.000000\n"
     ]
    }
   ],
   "source": [
    "salaries = pd.DataFrame({\"salary\":[100, 80, 75, 77, 89, 33, 45, 25, 65, 17, 30, 24, 57, 55, 70, 75, 65, 84, 90, 150]})\n",
    "statistics = salaries.describe()\n",
    "print(statistics)"
   ]
  },
  {
   "cell_type": "code",
   "execution_count": 40,
   "metadata": {},
   "outputs": [
    {
     "name": "stdout",
     "output_type": "stream",
     "text": [
      "Для данного наблюдения 1 квартиль равен 42.0 \n",
      "Для данного наблюдения 3 квартиль равен 81.0 \n",
      "Интерквартильный размах равен 39.0\n"
     ]
    }
   ],
   "source": [
    "print(f\"Для данного наблюдения 1 квартиль равен {statistics.loc['25%'][0]} \\n\"\n",
    "f\"Для данного наблюдения 3 квартиль равен {statistics.loc['75%'][0]} \\n\"\n",
    "f\"Интерквартильный размах равен {statistics.loc['75%'][0]-statistics.loc['25%'][0]}\")"
   ]
  },
  {
   "cell_type": "code",
   "execution_count": 46,
   "metadata": {},
   "outputs": [
    {
     "data": {
      "text/plain": [
       "<AxesSubplot:ylabel='Frequency'>"
      ]
     },
     "execution_count": 46,
     "metadata": {},
     "output_type": "execute_result"
    },
    {
     "data": {
      "image/png": "[encoded data removed]",
      "text/plain": [
       "<Figure size 432x288 with 1 Axes>"
      ]
     },
     "metadata": {
      "needs_background": "light"
     },
     "output_type": "display_data"
    }
   ],
   "source": [
    "salaries.plot(kind=\"hist\", bins = 25)"
   ]
  },
  {
   "cell_type": "code",
   "execution_count": 16,
   "metadata": {},
   "outputs": [
    {
     "data": {
      "text/plain": [
       "<AxesSubplot:>"
      ]
     },
     "execution_count": 16,
     "metadata": {},
     "output_type": "execute_result"
    },
    {
     "data": {
      "image/png": "[encoded data removed]",
      "text/plain": [
       "<Figure size 432x288 with 1 Axes>"
      ]
     },
     "metadata": {
      "needs_background": "light"
     },
     "output_type": "display_data"
    }
   ],
   "source": [
    "salaries.boxplot()"
   ]
  },
  {
   "cell_type": "raw",
   "metadata": {},
   "source": [
    "Среди выбросов обнаружено одно значение, соответствующее 150 ед."
   ]
  }
 ],
 "metadata": {
  "kernelspec": {
   "display_name": "Python 3",
   "language": "python",
   "name": "python3"
  },
  "language_info": {
   "codemirror_mode": {
    "name": "ipython",
    "version": 3
   },
   "file_extension": ".py",
   "mimetype": "text/x-python",
   "name": "python",
   "nbconvert_exporter": "python",
   "pygments_lexer": "ipython3",
   "version": "3.8.5"
  }
 },
 "nbformat": 4,
 "nbformat_minor": 4
}
